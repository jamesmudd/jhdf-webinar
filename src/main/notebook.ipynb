{
 "cells": [
  {
   "cell_type": "markdown",
   "source": [
    "## jHDF Kotlin Notebook Demo\n",
    "\n",
    "First load the libraries"
   ],
   "metadata": {
    "collapsed": false
   }
  },
  {
   "cell_type": "code",
   "execution_count": null,
   "outputs": [],
   "source": [
    "import io.jhdf.HdfFile\n",
    "import java.nio.file.Path\n",
    "\n",
    "%use dataframe, kandy"
   ],
   "metadata": {
    "collapsed": false
   }
  },
  {
   "cell_type": "markdown",
   "source": [
    "Then load the HDF5 file using jHDF"
   ],
   "metadata": {
    "collapsed": false
   }
  },
  {
   "cell_type": "code",
   "execution_count": null,
   "outputs": [],
   "source": [
    "val webinarDemoFile = HdfFile(Path.of(\"/home/james/git/jhdf-webinar/hdf5-example/webinar_demo.hdf5\"))"
   ],
   "metadata": {
    "collapsed": false
   }
  },
  {
   "cell_type": "markdown",
   "source": [
    "Open the \"people\" compound dataset"
   ],
   "metadata": {
    "collapsed": false
   }
  },
  {
   "cell_type": "code",
   "execution_count": null,
   "outputs": [],
   "source": [
    "val peopleDataset = webinarDemoFile.getDatasetByPath(\"people\")\n",
    "val map = peopleDataset.getData() as Map<String, Any>"
   ],
   "metadata": {
    "collapsed": false
   }
  },
  {
   "cell_type": "markdown",
   "source": [
    "Convert The dataset to a Kotlin DataFrame and print it"
   ],
   "metadata": {
    "collapsed": false
   }
  },
  {
   "cell_type": "code",
   "execution_count": null,
   "outputs": [],
   "source": [
    "val firstName = columnOf(*(map.get(\"firstName\") as Array<String>)).named(\"First Name\")\n",
    "val lastName = columnOf(*(map.get(\"surname\") as Array<String>)).named(\"Surname\")\n",
    "val gender = columnOf(*(map.get(\"gender\") as Array<String>)).named(\"Gender\")\n",
    "val age = columnOf(*((map.get(\"age\") as IntArray).toTypedArray())).named(\"Age\")\n",
    "val favNum = columnOf(*((map.get(\"fav_number\") as FloatArray).toTypedArray())).named(\"Favorite Number\")\n",
    "val df = dataFrameOf(firstName, lastName, gender, age, favNum)\n",
    "df"
   ],
   "metadata": {
    "collapsed": false
   }
  },
  {
   "cell_type": "code",
   "execution_count": null,
   "outputs": [],
   "source": [
    "df.filter { age > 30 }"
   ],
   "metadata": {
    "collapsed": false
   }
  },
  {
   "cell_type": "code",
   "execution_count": null,
   "outputs": [],
   "source": [
    "df.filter { `First Name`.startsWith(\"P\") }"
   ],
   "metadata": {
    "collapsed": false
   }
  },
  {
   "cell_type": "code",
   "execution_count": null,
   "outputs": [],
   "source": [
    "df.filter { Gender.equals(\"MALE\") }"
   ],
   "metadata": {
    "collapsed": false
   }
  },
  {
   "cell_type": "markdown",
   "source": [],
   "metadata": {
    "collapsed": false
   }
  },
  {
   "cell_type": "code",
   "execution_count": null,
   "outputs": [],
   "source": [
    "val day by columnOf(\"Mon\", \"Tue\", \"Wed\", \"Thu\", \"Fri\", \"Sat\", \"Sun\")\n",
    "val low by columnOf(16345f, 18718f, 17541f, 17302f, 15991f, 18315f, 20189f)\n",
    "val high by columnOf(18252f, 19912f, 19001f, 21540f, 18770f, 20945f, 23007f)\n",
    "val mid by (low.values().zip(high.values()).map { (it.second + it.first) / 2 }).toColumn()\n",
    "val df = dataFrameOf(day, low, mid, high)\n",
    "df"
   ],
   "metadata": {
    "collapsed": false
   }
  },
  {
   "cell_type": "code",
   "execution_count": null,
   "outputs": [],
   "source": [
    "df.plot {\n",
    "    x(day) { axis.name = \"day of week\" }\n",
    "    y {\n",
    "        axis.name = \"price\"\n",
    "        scale = continuous(15000f..24000f)\n",
    "    }\n",
    "    line {\n",
    "        y(mid)\n",
    "        color = Color.GREEN\n",
    "        type = LineType.DOTTED\n",
    "        width = 2.0\n",
    "    }\n",
    "    ribbon {\n",
    "        yMin(low)\n",
    "        yMax(high)\n",
    "        borderLine.color = Color.BLUE\n",
    "    }\n",
    "}"
   ],
   "metadata": {
    "collapsed": false
   }
  }
 ],
 "metadata": {
  "kernelspec": {
   "display_name": "Kotlin",
   "language": "kotlin",
   "name": "kotlin"
  },
  "language_info": {
   "name": "kotlin",
   "version": "1.8.20",
   "mimetype": "text/x-kotlin",
   "file_extension": ".kt",
   "pygments_lexer": "kotlin",
   "codemirror_mode": "text/x-kotlin",
   "nbconvert_exporter": ""
  }
 },
 "nbformat": 4,
 "nbformat_minor": 0
}
