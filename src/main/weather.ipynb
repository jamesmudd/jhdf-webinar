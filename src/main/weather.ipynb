{
 "cells": [
  {
   "cell_type": "code",
   "execution_count": null,
   "metadata": {
    "collapsed": true
   },
   "outputs": [],
   "source": [
    "import io.jhdf.HdfFile\n",
    "import java.nio.file.Path\n",
    "\n",
    "%use dataframe, kandy"
   ]
  },
  {
   "cell_type": "markdown",
   "source": [
    "Open the file and read the weather data into memory"
   ],
   "metadata": {
    "collapsed": false
   }
  },
  {
   "cell_type": "code",
   "execution_count": null,
   "outputs": [],
   "source": [
    "val file = HdfFile(Path.of(\"/home/james/git/jhdf-webinar/hdf5-example/weather.hdf5\"))\n",
    "val weatherDataset = file.getDatasetByPath(\"weather/table\")\n",
    "val compountData = weatherDataset.getData() as Map<String, Any>"
   ],
   "metadata": {
    "collapsed": false
   }
  },
  {
   "cell_type": "markdown",
   "source": [
    "Convert the java map into a data frame"
   ],
   "metadata": {
    "collapsed": false
   }
  },
  {
   "cell_type": "code",
   "execution_count": null,
   "outputs": [],
   "source": [
    "val country = columnOf(*(compountData.get(\"country\") as Array<String>)).named(\"country\")\n",
    "val date = columnOf(*(compountData.get(\"date\") as Array<String>)).named(\"date\")\n",
    "val temp = columnOf(*(compountData.get(\"avg_temp_c\") as DoubleArray).toTypedArray()).named(\"temp\")\n",
    "val rainfall = columnOf(*((compountData.get(\"precipitation_mm\") as DoubleArray).toTypedArray())).named(\"rainfall\")\n",
    "val pressure = columnOf(*((compountData.get(\"avg_sea_level_pres_hpa\")  as DoubleArray).toTypedArray())).named(\"pressure\")\n",
    "val df = dataFrameOf(country, date, temp, rainfall, pressure)\n",
    "    .parse { date }"
   ],
   "metadata": {
    "collapsed": false
   }
  },
  {
   "cell_type": "markdown",
   "source": [
    "See the countries available"
   ],
   "metadata": {
    "collapsed": false
   }
  },
  {
   "cell_type": "code",
   "execution_count": null,
   "outputs": [],
   "source": [
    "df.country.distinct().toList()"
   ],
   "metadata": {
    "collapsed": false
   }
  },
  {
   "cell_type": "markdown",
   "source": [
    "Plot the data for a few countries"
   ],
   "metadata": {
    "collapsed": false
   }
  },
  {
   "cell_type": "code",
   "execution_count": null,
   "outputs": [],
   "source": [
    "val countries = setOf(\"Spain\", \"Finland\", \"United Kingdom\", \"United States\")\n",
    "df\n",
    "    .filter { country in countries }\n",
    "    .filter { temp.isFinite() }\n",
    "    .filter { date in LocalDate.parse(\"1980-01-01\")..LocalDate.parse(\"2000-01-01\") }\n",
    "    .groupBy(country).plot { \n",
    "        line { \n",
    "            x(date)\n",
    "            y(temp)\n",
    "            color(country)\n",
    "        }\n",
    "     }"
   ],
   "metadata": {
    "collapsed": false
   }
  }
 ],
 "metadata": {
  "kernelspec": {
   "display_name": "Kotlin",
   "language": "kotlin",
   "name": "kotlin"
  },
  "language_info": {
   "name": "kotlin",
   "version": "1.8.20",
   "mimetype": "text/x-kotlin",
   "file_extension": ".kt",
   "pygments_lexer": "kotlin",
   "codemirror_mode": "text/x-kotlin",
   "nbconvert_exporter": ""
  }
 },
 "nbformat": 4,
 "nbformat_minor": 0
}
